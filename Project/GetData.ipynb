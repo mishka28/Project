{
 "cells": [
  {
   "cell_type": "code",
   "execution_count": 3,
   "metadata": {},
   "outputs": [
    {
     "name": "stdout",
     "output_type": "stream",
     "text": [
      "                 BIV       BLV       BND     PARWX        VB      VCIT  \\\n",
      "Date                                                                     \n",
      "2017-12-22 -0.005594 -0.016425 -0.004655  0.000784  0.006444 -0.004918   \n",
      "2017-12-15  0.001901  0.011659  0.002447  0.007347  0.000817  0.001827   \n",
      "2017-12-08 -0.000357  0.001163  0.000735 -0.003943 -0.005434  0.001029   \n",
      "2017-12-01 -0.000706  0.000694 -0.001608 -0.001573  0.013709 -0.001614   \n",
      "2017-11-24  0.000949  0.007096  0.002079  0.013145  0.014108  0.003767   \n",
      "2017-11-17  0.003328  0.013266  0.003311  0.020587  0.008533  0.002290   \n",
      "2017-11-10 -0.005698 -0.012629 -0.004656  0.003908 -0.007906 -0.006170   \n",
      "2017-11-03  0.003744  0.013186  0.004198  0.007599 -0.000697  0.002129   \n",
      "2017-10-27 -0.000593 -0.002361 -0.000735 -0.010205 -0.000070 -0.000341   \n",
      "2017-10-20 -0.005200 -0.010766 -0.004397  0.014159  0.005797 -0.004089   \n",
      "\n",
      "               VFIAX     VGTSX       VNQ        VO       VSS       VWO  \\\n",
      "Date                                                                     \n",
      "2017-12-22  0.002134  0.008299 -0.014920  0.004722  0.011608  0.007623   \n",
      "2017-12-15  0.009437  0.003339  0.012418  0.001038  0.004561  0.006549   \n",
      "2017-12-08  0.003873 -0.002227 -0.006642  0.003967 -0.007218  0.002041   \n",
      "2017-12-01  0.015852 -0.010512 -0.004247  0.012326 -0.012424 -0.034582   \n",
      "2017-11-24  0.009298  0.017768  0.003538  0.008414  0.021109  0.016138   \n",
      "2017-11-17 -0.000586 -0.001679 -0.003302  0.009089 -0.002760  0.006260   \n",
      "2017-11-10 -0.001422 -0.005577  0.021903  0.000201 -0.007893 -0.000673   \n",
      "2017-11-03  0.002931  0.009500  0.009796 -0.002615  0.011344 -0.002686   \n",
      "2017-10-27  0.002309 -0.002243 -0.016513 -0.006143 -0.002676 -0.001563   \n",
      "2017-10-20  0.008780 -0.003914 -0.013536  0.009094 -0.011399 -0.008223   \n",
      "\n",
      "                 VYM  \n",
      "Date                  \n",
      "2017-12-22  0.001625  \n",
      "2017-12-15  0.008983  \n",
      "2017-12-08  0.003993  \n",
      "2017-12-01  0.023452  \n",
      "2017-11-24  0.006768  \n",
      "2017-11-17 -0.000727  \n",
      "2017-11-10 -0.003629  \n",
      "2017-11-03 -0.002171  \n",
      "2017-10-27 -0.003008  \n",
      "2017-10-20  0.010748  \n"
     ]
    }
   ],
   "source": [
    "import numpy as np \n",
    "import pandas as pd \n",
    "from datetime import datetime\n",
    "from pandas_datareader import data as web\n",
    "\n",
    "# Dow Jones Industrial Average Tickers\n",
    "SETH = ['BIV','BLV','BND','VCIT','VFIAX','VYM','VO','VB','VWO','VSS','VGTSX','VNQ','PARWX']\n",
    "DJIA = ['JNJ','UTX','IBM','CVX','PG','KO','MCD','MSFT','DIS','VZ','NIKE','AAPL','INTC','FB']\n",
    "# Dates\n",
    "start = datetime(2010, 1, 1)\n",
    "end = datetime.today()\n",
    "# Grab data, change to weekly returns and write to CSV\n",
    "\n",
    "\n",
    "def getdata(listofstocks, startdate, enddate):\n",
    "    x = web.DataReader(listofstocks,\"yahoo\", startdate, enddate)['Adj Close']\n",
    "    df = pd.DataFrame(x)\n",
    "    df = df.resample('W-FRI').last().sort_index(ascending=False) #changing data to weekly\n",
    "    for row in range(len(df)-1):\n",
    "        df.iloc[row] = df.iloc[row].div(df.iloc[row+1]) #return\n",
    "    df = df.iloc[:-1]\n",
    "    df = np.log(df)  #taking log return\n",
    "    df.to_csv('SethFundData.csv', encoding='utf-8') #write to CSV\n",
    "    return(df)\n",
    "\n",
    "data = getdata(DJIA, start, end)\n",
    "print((data).head(5))\n",
    "\n"
   ]
  },
  {
   "cell_type": "code",
   "execution_count": null,
   "metadata": {
    "collapsed": true
   },
   "outputs": [],
   "source": []
  }
 ],
 "metadata": {
  "kernelspec": {
   "display_name": "Python 3",
   "language": "python",
   "name": "python3"
  },
  "language_info": {
   "codemirror_mode": {
    "name": "ipython",
    "version": 3
   },
   "file_extension": ".py",
   "mimetype": "text/x-python",
   "name": "python",
   "nbconvert_exporter": "python",
   "pygments_lexer": "ipython3",
   "version": "3.6.3"
  }
 },
 "nbformat": 4,
 "nbformat_minor": 2
}
